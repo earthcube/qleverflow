{
 "cells": [
  {
   "metadata": {},
   "cell_type": "markdown",
   "source": "# Constraint results inspector",
   "id": "b533eebac61451e2"
  },
  {
   "cell_type": "code",
   "id": "initial_id",
   "metadata": {
    "collapsed": true,
    "ExecuteTime": {
     "end_time": "2025-06-12T21:33:38.321696Z",
     "start_time": "2025-06-12T21:33:38.319958Z"
    }
   },
   "source": [
    "import pyoxigraph\n",
    "from pyoxigraph import RdfFormat\n",
    "import pandas as pd"
   ],
   "outputs": [],
   "execution_count": 12
  },
  {
   "metadata": {
    "ExecuteTime": {
     "end_time": "2025-06-12T21:33:38.352367Z",
     "start_time": "2025-06-12T21:33:38.350815Z"
    }
   },
   "cell_type": "code",
   "source": "store = pyoxigraph.Store()",
   "id": "c9910a06a2e26aa3",
   "outputs": [],
   "execution_count": 13
  },
  {
   "metadata": {
    "ExecuteTime": {
     "end_time": "2025-06-12T21:33:38.504198Z",
     "start_time": "2025-06-12T21:33:38.397894Z"
    }
   },
   "cell_type": "code",
   "source": "store.load(open(\"./results.nq\", 'rb'), RdfFormat.N_QUADS, base_iri=None, to_graph=None)",
   "id": "66ae122328493f33",
   "outputs": [],
   "execution_count": 14
  },
  {
   "metadata": {},
   "cell_type": "markdown",
   "source": [
    "```\n",
    "SELECT ?id ?name ?severity ?grname (STR(?refurl) AS ?str_refurl) (STR(?refresource) AS ?str_refresrouce) ?constraint ?path ?message (STR(?focus) AS ?focusURL) ?focusType ?value\n",
    "```\n",
    "\n",
    "```\n",
    "http://www.w3.org/1999/02/22-rdf-syntax-ns#type\n",
    "http://www.w3.org/ns/shacl#focusNode\n",
    "http://www.w3.org/ns/shacl#resultMessage\n",
    "http://www.w3.org/ns/shacl#resultPath\n",
    "http://www.w3.org/ns/shacl#resultSeverity\n",
    "http://www.w3.org/ns/shacl#sourceConstraintComponent\n",
    "http://www.w3.org/ns/shacl#sourceShape\n",
    "```\n"
   ],
   "id": "4fbb68b5a07ac708"
  },
  {
   "metadata": {
    "ExecuteTime": {
     "end_time": "2025-06-12T21:33:38.576006Z",
     "start_time": "2025-06-12T21:33:38.534706Z"
    }
   },
   "cell_type": "code",
   "source": [
    "sparql = \"\"\"PREFIX shacl: <http://www.w3.org/ns/shacl#>\n",
    "PREFIX rdf: <http://www.w3.org/1999/02/22-rdf-syntax-ns#>\n",
    "PREFIX rdfs: <http://www.w3.org/2000/01/rdf-schema#>\n",
    "PREFIX schema: <https://schema.org/>\n",
    "\n",
    "SELECT ?id ?name ?severity ?grname (STR(?refurl) AS ?str_refurl) (STR(?refresource) AS ?str_refresrouce) ?constraint ?path ?message (STR(?focus) AS ?focusURL) ?focusType ?value\n",
    "WHERE {\n",
    "  ?id rdf:type shacl:ValidationResult .\n",
    "  OPTIONAL { ?id shacl:sourceShape ?ss . }\n",
    "  OPTIONAL {\n",
    "     ?id shacl:focusNode ?focus .\n",
    "    ?focus rdf:type ?focusType .\n",
    "  }\n",
    "  OPTIONAL { ?id shacl:resultMessage ?message . }\n",
    "  OPTIONAL { ?id shacl:resultSeverity ?severity . }\n",
    "  OPTIONAL { ?id shacl:sourceConstraintComponent ?constraint . }\n",
    "  OPTIONAL {  ?ss shacl:name ?name . }\n",
    "  OPTIONAL {\n",
    "    ?ss shacl:group ?group .\n",
    "    ?group rdfs:label ?grname .\n",
    "    ?group schema:url ?refurl .\n",
    "    ?group rdfs:isDefinedBy ?refresource .\n",
    "   }\n",
    "  OPTIONAL { ?id shacl:resultPath ?path . }\n",
    "  OPTIONAL { ?id shacl:value ?value . }\n",
    "}\n",
    "\"\"\"\n",
    "\n",
    "r = store.query(sparql)\n",
    "q1 = list(r)"
   ],
   "id": "16f930f8ce2b0afe",
   "outputs": [],
   "execution_count": 15
  },
  {
   "metadata": {
    "ExecuteTime": {
     "end_time": "2025-06-12T21:33:38.609371Z",
     "start_time": "2025-06-12T21:33:38.607579Z"
    }
   },
   "cell_type": "code",
   "source": "print(list(r))",
   "id": "8afdf4a82059e0d1",
   "outputs": [
    {
     "name": "stdout",
     "output_type": "stream",
     "text": [
      "[]\n"
     ]
    }
   ],
   "execution_count": 16
  },
  {
   "metadata": {
    "ExecuteTime": {
     "end_time": "2025-06-12T21:33:38.681763Z",
     "start_time": "2025-06-12T21:33:38.679811Z"
    }
   },
   "cell_type": "code",
   "source": [
    "# get the list of the variables from the query for ues in the dataframe\n",
    "vars = r.variables\n",
    "value_list = [variable.value for variable in vars]"
   ],
   "id": "6cd6ca6631080cf5",
   "outputs": [],
   "execution_count": 17
  },
  {
   "metadata": {
    "ExecuteTime": {
     "end_time": "2025-06-12T21:33:38.750647Z",
     "start_time": "2025-06-12T21:33:38.748966Z"
    }
   },
   "cell_type": "code",
   "source": [
    "# This map is necessary to get the values from the pyoxigraph.QuerySolutions\n",
    "def extract_value(cell):\n",
    "    if isinstance(cell, (pyoxigraph.Literal, pyoxigraph.NamedNode, pyoxigraph.BlankNode)):\n",
    "        return cell.value\n",
    "    return cell\n"
   ],
   "id": "92079ea0ea608d10",
   "outputs": [],
   "execution_count": 18
  },
  {
   "metadata": {
    "ExecuteTime": {
     "end_time": "2025-06-12T21:33:38.826310Z",
     "start_time": "2025-06-12T21:33:38.817406Z"
    }
   },
   "cell_type": "code",
   "source": "df = pd.DataFrame(q1, columns=value_list)\n",
   "id": "65f010c3cb143af9",
   "outputs": [],
   "execution_count": 19
  },
  {
   "metadata": {
    "ExecuteTime": {
     "end_time": "2025-06-12T21:33:38.902556Z",
     "start_time": "2025-06-12T21:33:38.885251Z"
    }
   },
   "cell_type": "code",
   "source": "df = df.applymap(extract_value)",
   "id": "434376ca16fbd81",
   "outputs": [
    {
     "name": "stderr",
     "output_type": "stream",
     "text": [
      "/tmp/ipykernel_1356142/1674585045.py:1: FutureWarning: DataFrame.applymap has been deprecated. Use DataFrame.map instead.\n",
      "  df = df.applymap(extract_value)\n"
     ]
    }
   ],
   "execution_count": 20
  },
  {
   "metadata": {
    "ExecuteTime": {
     "end_time": "2025-06-12T21:33:38.962346Z",
     "start_time": "2025-06-12T21:33:38.956610Z"
    }
   },
   "cell_type": "code",
   "source": "df\n",
   "id": "9256734cde168ee6",
   "outputs": [
    {
     "data": {
      "text/plain": [
       "                                    id  name  \\\n",
       "0     c10cb2867f720243aed5c36d84e00295  None   \n",
       "1     d30fd099d52d209d3263422ec0a591e0  None   \n",
       "2     ced81c4c9a9cb3617e1c63f9ed7e030a  None   \n",
       "3     f4d892e7e79f27eda7e661a077464e0b  None   \n",
       "4     f211a050478c1dab075a737e3e6b07a9  None   \n",
       "...                                ...   ...   \n",
       "6995  c203e466c0139893095898708a29edab  None   \n",
       "6996  ed8e5157a41af87d7280174d4f7358f7  None   \n",
       "6997  c1c3c2f75a99bc7f9fd8fbc8199d2e52  None   \n",
       "6998  b45bdd94ea1c29fdeed7e5b9dea7660e  None   \n",
       "6999  cc920fd8ebf906004afac07acfdbdcca  None   \n",
       "\n",
       "                                  severity grname str_refurl str_refresrouce  \\\n",
       "0     http://www.w3.org/ns/shacl#Violation   None       None            None   \n",
       "1       http://www.w3.org/ns/shacl#Warning   None       None            None   \n",
       "2       http://www.w3.org/ns/shacl#Warning   None       None            None   \n",
       "3       http://www.w3.org/ns/shacl#Warning   None       None            None   \n",
       "4     http://www.w3.org/ns/shacl#Violation   None       None            None   \n",
       "...                                    ...    ...        ...             ...   \n",
       "6995  http://www.w3.org/ns/shacl#Violation   None       None            None   \n",
       "6996  http://www.w3.org/ns/shacl#Violation   None       None            None   \n",
       "6997    http://www.w3.org/ns/shacl#Warning   None       None            None   \n",
       "6998    http://www.w3.org/ns/shacl#Warning   None       None            None   \n",
       "6999  http://www.w3.org/ns/shacl#Violation   None       None            None   \n",
       "\n",
       "                                             constraint  \\\n",
       "0     http://www.w3.org/ns/shacl#QualifiedMinCountCo...   \n",
       "1     http://www.w3.org/ns/shacl#MinCountConstraintC...   \n",
       "2     http://www.w3.org/ns/shacl#MinCountConstraintC...   \n",
       "3     http://www.w3.org/ns/shacl#MinCountConstraintC...   \n",
       "4     http://www.w3.org/ns/shacl#MinCountConstraintC...   \n",
       "...                                                 ...   \n",
       "6995  http://www.w3.org/ns/shacl#QualifiedMinCountCo...   \n",
       "6996  http://www.w3.org/ns/shacl#QualifiedMinCountCo...   \n",
       "6997  http://www.w3.org/ns/shacl#MinCountConstraintC...   \n",
       "6998  http://www.w3.org/ns/shacl#MinCountConstraintC...   \n",
       "6999  http://www.w3.org/ns/shacl#MinCountConstraintC...   \n",
       "\n",
       "                                      path  \\\n",
       "0      https://schema.org/variableMeasured   \n",
       "1      https://schema.org/variableMeasured   \n",
       "2     https://schema.org/measurementMethod   \n",
       "3              https://schema.org/contacts   \n",
       "4               https://schema.org/license   \n",
       "...                                    ...   \n",
       "6995   https://schema.org/variableMeasured   \n",
       "6996   https://schema.org/variableMeasured   \n",
       "6997   https://schema.org/variableMeasured   \n",
       "6998           https://schema.org/citation   \n",
       "6999            https://schema.org/license   \n",
       "\n",
       "                                                message focusURL focusType  \\\n",
       "0     At least one PropertyValue in variableMeasured...     None      None   \n",
       "1                               variable measured check     None      None   \n",
       "2                              measurement method check     None      None   \n",
       "3                Contact information should be provided     None      None   \n",
       "4                License information should be provided     None      None   \n",
       "...                                                 ...      ...       ...   \n",
       "6995  At least one PropertyValue in variableMeasured...     None      None   \n",
       "6996  At least one PropertyValue in variableMeasured...     None      None   \n",
       "6997                            variable measured check     None      None   \n",
       "6998            Citation information should be provided     None      None   \n",
       "6999             License information should be provided     None      None   \n",
       "\n",
       "     value  \n",
       "0     None  \n",
       "1     None  \n",
       "2     None  \n",
       "3     None  \n",
       "4     None  \n",
       "...    ...  \n",
       "6995  None  \n",
       "6996  None  \n",
       "6997  None  \n",
       "6998  None  \n",
       "6999  None  \n",
       "\n",
       "[7000 rows x 12 columns]"
      ],
      "text/html": [
       "<div>\n",
       "<style scoped>\n",
       "    .dataframe tbody tr th:only-of-type {\n",
       "        vertical-align: middle;\n",
       "    }\n",
       "\n",
       "    .dataframe tbody tr th {\n",
       "        vertical-align: top;\n",
       "    }\n",
       "\n",
       "    .dataframe thead th {\n",
       "        text-align: right;\n",
       "    }\n",
       "</style>\n",
       "<table border=\"1\" class=\"dataframe\">\n",
       "  <thead>\n",
       "    <tr style=\"text-align: right;\">\n",
       "      <th></th>\n",
       "      <th>id</th>\n",
       "      <th>name</th>\n",
       "      <th>severity</th>\n",
       "      <th>grname</th>\n",
       "      <th>str_refurl</th>\n",
       "      <th>str_refresrouce</th>\n",
       "      <th>constraint</th>\n",
       "      <th>path</th>\n",
       "      <th>message</th>\n",
       "      <th>focusURL</th>\n",
       "      <th>focusType</th>\n",
       "      <th>value</th>\n",
       "    </tr>\n",
       "  </thead>\n",
       "  <tbody>\n",
       "    <tr>\n",
       "      <th>0</th>\n",
       "      <td>c10cb2867f720243aed5c36d84e00295</td>\n",
       "      <td>None</td>\n",
       "      <td>http://www.w3.org/ns/shacl#Violation</td>\n",
       "      <td>None</td>\n",
       "      <td>None</td>\n",
       "      <td>None</td>\n",
       "      <td>http://www.w3.org/ns/shacl#QualifiedMinCountCo...</td>\n",
       "      <td>https://schema.org/variableMeasured</td>\n",
       "      <td>At least one PropertyValue in variableMeasured...</td>\n",
       "      <td>None</td>\n",
       "      <td>None</td>\n",
       "      <td>None</td>\n",
       "    </tr>\n",
       "    <tr>\n",
       "      <th>1</th>\n",
       "      <td>d30fd099d52d209d3263422ec0a591e0</td>\n",
       "      <td>None</td>\n",
       "      <td>http://www.w3.org/ns/shacl#Warning</td>\n",
       "      <td>None</td>\n",
       "      <td>None</td>\n",
       "      <td>None</td>\n",
       "      <td>http://www.w3.org/ns/shacl#MinCountConstraintC...</td>\n",
       "      <td>https://schema.org/variableMeasured</td>\n",
       "      <td>variable measured check</td>\n",
       "      <td>None</td>\n",
       "      <td>None</td>\n",
       "      <td>None</td>\n",
       "    </tr>\n",
       "    <tr>\n",
       "      <th>2</th>\n",
       "      <td>ced81c4c9a9cb3617e1c63f9ed7e030a</td>\n",
       "      <td>None</td>\n",
       "      <td>http://www.w3.org/ns/shacl#Warning</td>\n",
       "      <td>None</td>\n",
       "      <td>None</td>\n",
       "      <td>None</td>\n",
       "      <td>http://www.w3.org/ns/shacl#MinCountConstraintC...</td>\n",
       "      <td>https://schema.org/measurementMethod</td>\n",
       "      <td>measurement method check</td>\n",
       "      <td>None</td>\n",
       "      <td>None</td>\n",
       "      <td>None</td>\n",
       "    </tr>\n",
       "    <tr>\n",
       "      <th>3</th>\n",
       "      <td>f4d892e7e79f27eda7e661a077464e0b</td>\n",
       "      <td>None</td>\n",
       "      <td>http://www.w3.org/ns/shacl#Warning</td>\n",
       "      <td>None</td>\n",
       "      <td>None</td>\n",
       "      <td>None</td>\n",
       "      <td>http://www.w3.org/ns/shacl#MinCountConstraintC...</td>\n",
       "      <td>https://schema.org/contacts</td>\n",
       "      <td>Contact information should be provided</td>\n",
       "      <td>None</td>\n",
       "      <td>None</td>\n",
       "      <td>None</td>\n",
       "    </tr>\n",
       "    <tr>\n",
       "      <th>4</th>\n",
       "      <td>f211a050478c1dab075a737e3e6b07a9</td>\n",
       "      <td>None</td>\n",
       "      <td>http://www.w3.org/ns/shacl#Violation</td>\n",
       "      <td>None</td>\n",
       "      <td>None</td>\n",
       "      <td>None</td>\n",
       "      <td>http://www.w3.org/ns/shacl#MinCountConstraintC...</td>\n",
       "      <td>https://schema.org/license</td>\n",
       "      <td>License information should be provided</td>\n",
       "      <td>None</td>\n",
       "      <td>None</td>\n",
       "      <td>None</td>\n",
       "    </tr>\n",
       "    <tr>\n",
       "      <th>...</th>\n",
       "      <td>...</td>\n",
       "      <td>...</td>\n",
       "      <td>...</td>\n",
       "      <td>...</td>\n",
       "      <td>...</td>\n",
       "      <td>...</td>\n",
       "      <td>...</td>\n",
       "      <td>...</td>\n",
       "      <td>...</td>\n",
       "      <td>...</td>\n",
       "      <td>...</td>\n",
       "      <td>...</td>\n",
       "    </tr>\n",
       "    <tr>\n",
       "      <th>6995</th>\n",
       "      <td>c203e466c0139893095898708a29edab</td>\n",
       "      <td>None</td>\n",
       "      <td>http://www.w3.org/ns/shacl#Violation</td>\n",
       "      <td>None</td>\n",
       "      <td>None</td>\n",
       "      <td>None</td>\n",
       "      <td>http://www.w3.org/ns/shacl#QualifiedMinCountCo...</td>\n",
       "      <td>https://schema.org/variableMeasured</td>\n",
       "      <td>At least one PropertyValue in variableMeasured...</td>\n",
       "      <td>None</td>\n",
       "      <td>None</td>\n",
       "      <td>None</td>\n",
       "    </tr>\n",
       "    <tr>\n",
       "      <th>6996</th>\n",
       "      <td>ed8e5157a41af87d7280174d4f7358f7</td>\n",
       "      <td>None</td>\n",
       "      <td>http://www.w3.org/ns/shacl#Violation</td>\n",
       "      <td>None</td>\n",
       "      <td>None</td>\n",
       "      <td>None</td>\n",
       "      <td>http://www.w3.org/ns/shacl#QualifiedMinCountCo...</td>\n",
       "      <td>https://schema.org/variableMeasured</td>\n",
       "      <td>At least one PropertyValue in variableMeasured...</td>\n",
       "      <td>None</td>\n",
       "      <td>None</td>\n",
       "      <td>None</td>\n",
       "    </tr>\n",
       "    <tr>\n",
       "      <th>6997</th>\n",
       "      <td>c1c3c2f75a99bc7f9fd8fbc8199d2e52</td>\n",
       "      <td>None</td>\n",
       "      <td>http://www.w3.org/ns/shacl#Warning</td>\n",
       "      <td>None</td>\n",
       "      <td>None</td>\n",
       "      <td>None</td>\n",
       "      <td>http://www.w3.org/ns/shacl#MinCountConstraintC...</td>\n",
       "      <td>https://schema.org/variableMeasured</td>\n",
       "      <td>variable measured check</td>\n",
       "      <td>None</td>\n",
       "      <td>None</td>\n",
       "      <td>None</td>\n",
       "    </tr>\n",
       "    <tr>\n",
       "      <th>6998</th>\n",
       "      <td>b45bdd94ea1c29fdeed7e5b9dea7660e</td>\n",
       "      <td>None</td>\n",
       "      <td>http://www.w3.org/ns/shacl#Warning</td>\n",
       "      <td>None</td>\n",
       "      <td>None</td>\n",
       "      <td>None</td>\n",
       "      <td>http://www.w3.org/ns/shacl#MinCountConstraintC...</td>\n",
       "      <td>https://schema.org/citation</td>\n",
       "      <td>Citation information should be provided</td>\n",
       "      <td>None</td>\n",
       "      <td>None</td>\n",
       "      <td>None</td>\n",
       "    </tr>\n",
       "    <tr>\n",
       "      <th>6999</th>\n",
       "      <td>cc920fd8ebf906004afac07acfdbdcca</td>\n",
       "      <td>None</td>\n",
       "      <td>http://www.w3.org/ns/shacl#Violation</td>\n",
       "      <td>None</td>\n",
       "      <td>None</td>\n",
       "      <td>None</td>\n",
       "      <td>http://www.w3.org/ns/shacl#MinCountConstraintC...</td>\n",
       "      <td>https://schema.org/license</td>\n",
       "      <td>License information should be provided</td>\n",
       "      <td>None</td>\n",
       "      <td>None</td>\n",
       "      <td>None</td>\n",
       "    </tr>\n",
       "  </tbody>\n",
       "</table>\n",
       "<p>7000 rows × 12 columns</p>\n",
       "</div>"
      ]
     },
     "execution_count": 21,
     "metadata": {},
     "output_type": "execute_result"
    }
   ],
   "execution_count": 21
  },
  {
   "metadata": {
    "ExecuteTime": {
     "end_time": "2025-06-12T21:33:39.044735Z",
     "start_time": "2025-06-12T21:33:39.042534Z"
    }
   },
   "cell_type": "code",
   "source": "df.columns",
   "id": "ffcc648938523a34",
   "outputs": [
    {
     "data": {
      "text/plain": [
       "Index(['id', 'name', 'severity', 'grname', 'str_refurl', 'str_refresrouce',\n",
       "       'constraint', 'path', 'message', 'focusURL', 'focusType', 'value'],\n",
       "      dtype='object')"
      ]
     },
     "execution_count": 22,
     "metadata": {},
     "output_type": "execute_result"
    }
   ],
   "execution_count": 22
  },
  {
   "metadata": {
    "ExecuteTime": {
     "end_time": "2025-06-12T21:33:39.104666Z",
     "start_time": "2025-06-12T21:33:39.103426Z"
    }
   },
   "cell_type": "code",
   "source": "",
   "id": "f3e1314c76162c0c",
   "outputs": [],
   "execution_count": null
  }
 ],
 "metadata": {
  "kernelspec": {
   "display_name": "Python 3",
   "language": "python",
   "name": "python3"
  },
  "language_info": {
   "codemirror_mode": {
    "name": "ipython",
    "version": 2
   },
   "file_extension": ".py",
   "mimetype": "text/x-python",
   "name": "python",
   "nbconvert_exporter": "python",
   "pygments_lexer": "ipython2",
   "version": "2.7.6"
  }
 },
 "nbformat": 4,
 "nbformat_minor": 5
}
