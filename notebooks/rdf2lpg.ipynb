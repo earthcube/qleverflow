{
 "cells": [
  {
   "cell_type": "code",
   "id": "initial_id",
   "metadata": {
    "collapsed": true,
    "ExecuteTime": {
     "end_time": "2025-05-14T14:37:06.705510Z",
     "start_time": "2025-05-14T14:37:04.984120Z"
    }
   },
   "source": [
    "from io import StringIO\n",
    "import polars as pl\n",
    "import requests\n",
    "import kuzu\n",
    "from ipysigma import Sigma\n",
    "import networkx as nx\n",
    "import igraph as ig"
   ],
   "outputs": [],
   "execution_count": 1
  },
  {
   "metadata": {
    "ExecuteTime": {
     "end_time": "2025-05-14T14:39:15.139232Z",
     "start_time": "2025-05-14T14:39:15.136661Z"
    }
   },
   "cell_type": "code",
   "source": [
    "def query_mode(source,   query):\n",
    "    params = {\n",
    "        \"timeout\": \"600s\",\n",
    "        # \"access-token\": \"doos_7643543846_6dMISzlPrD7i\"\n",
    "    }\n",
    "    headers = {\n",
    "        \"Accept\": \"text/csv\",\n",
    "        \"Content-type\": \"application/sparql-query\"\n",
    "    }\n",
    "\n",
    "    # Read the SPARQL query from file\n",
    "    with open(query, \"r\") as file:\n",
    "        query = file.read()\n",
    "\n",
    "    # Send the request\n",
    "    response = requests.post(source, params=params, headers=headers, data=query)\n",
    "\n",
    "    # Load response into Polars DataFrame\n",
    "    df = pl.read_csv(StringIO(response.text))\n",
    "\n",
    "    return df"
   ],
   "id": "d90f2e9c9d7e9125",
   "outputs": [],
   "execution_count": 10
  },
  {
   "metadata": {
    "ExecuteTime": {
     "end_time": "2025-05-14T14:39:15.709278Z",
     "start_time": "2025-05-14T14:39:15.704141Z"
    }
   },
   "cell_type": "code",
   "source": [
    "source = \"http://0.0.0.0:7019\"\n",
    "query = \"/home/fils/scratch/qleverflow/queries/keywordsPathSearch.rq\"\n",
    "df = query_mode(source, query)"
   ],
   "id": "8d76d08d05808e29",
   "outputs": [],
   "execution_count": 11
  },
  {
   "metadata": {
    "ExecuteTime": {
     "end_time": "2025-05-14T14:38:50.977077Z",
     "start_time": "2025-05-14T14:38:50.941377Z"
    }
   },
   "cell_type": "code",
   "source": [
    "combined_uniques = (\n",
    "        df\n",
    "        .select([\n",
    "            pl.concat_list([pl.col('source'), pl.col('target')])\n",
    "            .alias('nodes')\n",
    "        ])\n",
    "        .select([\n",
    "            pl.col('nodes').explode().unique().sort()\n",
    "        ])\n",
    "    ).drop_nulls()    #   .to_series().to_list()"
   ],
   "id": "e38cd742db714eb",
   "outputs": [
    {
     "ename": "ColumnNotFoundError",
     "evalue": "source\n\nResolved plan until failure:\n\n\t---> FAILED HERE RESOLVING 'sink' <---\nDF [\"User submitted timeout was higher than what is currently allowed by this instance (240s). Please use a valid-access token to override this server configuration.\"]; PROJECT */1 COLUMNS",
     "output_type": "error",
     "traceback": [
      "\u001B[31m---------------------------------------------------------------------------\u001B[39m",
      "\u001B[31mColumnNotFoundError\u001B[39m                       Traceback (most recent call last)",
      "\u001B[36mCell\u001B[39m\u001B[36m \u001B[39m\u001B[32mIn[9]\u001B[39m\u001B[32m, line 3\u001B[39m\n\u001B[32m      1\u001B[39m combined_uniques = (\n\u001B[32m      2\u001B[39m         \u001B[43mdf\u001B[49m\n\u001B[32m----> \u001B[39m\u001B[32m3\u001B[39m \u001B[43m        \u001B[49m\u001B[43m.\u001B[49m\u001B[43mselect\u001B[49m\u001B[43m(\u001B[49m\u001B[43m[\u001B[49m\n\u001B[32m      4\u001B[39m \u001B[43m            \u001B[49m\u001B[43mpl\u001B[49m\u001B[43m.\u001B[49m\u001B[43mconcat_list\u001B[49m\u001B[43m(\u001B[49m\u001B[43m[\u001B[49m\u001B[43mpl\u001B[49m\u001B[43m.\u001B[49m\u001B[43mcol\u001B[49m\u001B[43m(\u001B[49m\u001B[33;43m'\u001B[39;49m\u001B[33;43msource\u001B[39;49m\u001B[33;43m'\u001B[39;49m\u001B[43m)\u001B[49m\u001B[43m,\u001B[49m\u001B[43m \u001B[49m\u001B[43mpl\u001B[49m\u001B[43m.\u001B[49m\u001B[43mcol\u001B[49m\u001B[43m(\u001B[49m\u001B[33;43m'\u001B[39;49m\u001B[33;43mtarget\u001B[39;49m\u001B[33;43m'\u001B[39;49m\u001B[43m)\u001B[49m\u001B[43m]\u001B[49m\u001B[43m)\u001B[49m\n\u001B[32m      5\u001B[39m \u001B[43m            \u001B[49m\u001B[43m.\u001B[49m\u001B[43malias\u001B[49m\u001B[43m(\u001B[49m\u001B[33;43m'\u001B[39;49m\u001B[33;43mnodes\u001B[39;49m\u001B[33;43m'\u001B[39;49m\u001B[43m)\u001B[49m\n\u001B[32m      6\u001B[39m \u001B[43m        \u001B[49m\u001B[43m]\u001B[49m\u001B[43m)\u001B[49m\n\u001B[32m      7\u001B[39m         .select([\n\u001B[32m      8\u001B[39m             pl.col(\u001B[33m'\u001B[39m\u001B[33mnodes\u001B[39m\u001B[33m'\u001B[39m).explode().unique().sort()\n\u001B[32m      9\u001B[39m         ])\n\u001B[32m     10\u001B[39m     ).drop_nulls()    \u001B[38;5;66;03m#   .to_series().to_list()\u001B[39;00m\n",
      "\u001B[36mFile \u001B[39m\u001B[32m~/scratch/qleverflow/.venv/lib/python3.13/site-packages/polars/dataframe/frame.py:9657\u001B[39m, in \u001B[36mDataFrame.select\u001B[39m\u001B[34m(self, *exprs, **named_exprs)\u001B[39m\n\u001B[32m   9557\u001B[39m \u001B[38;5;28;01mdef\u001B[39;00m\u001B[38;5;250m \u001B[39m\u001B[34mselect\u001B[39m(\n\u001B[32m   9558\u001B[39m     \u001B[38;5;28mself\u001B[39m, *exprs: IntoExpr | Iterable[IntoExpr], **named_exprs: IntoExpr\n\u001B[32m   9559\u001B[39m ) -> DataFrame:\n\u001B[32m   9560\u001B[39m \u001B[38;5;250m    \u001B[39m\u001B[33;03m\"\"\"\u001B[39;00m\n\u001B[32m   9561\u001B[39m \u001B[33;03m    Select columns from this DataFrame.\u001B[39;00m\n\u001B[32m   9562\u001B[39m \n\u001B[32m   (...)\u001B[39m\u001B[32m   9655\u001B[39m \u001B[33;03m    └──────────────┘\u001B[39;00m\n\u001B[32m   9656\u001B[39m \u001B[33;03m    \"\"\"\u001B[39;00m\n\u001B[32m-> \u001B[39m\u001B[32m9657\u001B[39m     \u001B[38;5;28;01mreturn\u001B[39;00m \u001B[38;5;28;43mself\u001B[39;49m\u001B[43m.\u001B[49m\u001B[43mlazy\u001B[49m\u001B[43m(\u001B[49m\u001B[43m)\u001B[49m\u001B[43m.\u001B[49m\u001B[43mselect\u001B[49m\u001B[43m(\u001B[49m\u001B[43m*\u001B[49m\u001B[43mexprs\u001B[49m\u001B[43m,\u001B[49m\u001B[43m \u001B[49m\u001B[43m*\u001B[49m\u001B[43m*\u001B[49m\u001B[43mnamed_exprs\u001B[49m\u001B[43m)\u001B[49m\u001B[43m.\u001B[49m\u001B[43mcollect\u001B[49m\u001B[43m(\u001B[49m\u001B[43m_eager\u001B[49m\u001B[43m=\u001B[49m\u001B[38;5;28;43;01mTrue\u001B[39;49;00m\u001B[43m)\u001B[49m\n",
      "\u001B[36mFile \u001B[39m\u001B[32m~/scratch/qleverflow/.venv/lib/python3.13/site-packages/polars/_utils/deprecation.py:93\u001B[39m, in \u001B[36mdeprecate_streaming_parameter.<locals>.decorate.<locals>.wrapper\u001B[39m\u001B[34m(*args, **kwargs)\u001B[39m\n\u001B[32m     89\u001B[39m         kwargs[\u001B[33m\"\u001B[39m\u001B[33mengine\u001B[39m\u001B[33m\"\u001B[39m] = \u001B[33m\"\u001B[39m\u001B[33min-memory\u001B[39m\u001B[33m\"\u001B[39m\n\u001B[32m     91\u001B[39m     \u001B[38;5;28;01mdel\u001B[39;00m kwargs[\u001B[33m\"\u001B[39m\u001B[33mstreaming\u001B[39m\u001B[33m\"\u001B[39m]\n\u001B[32m---> \u001B[39m\u001B[32m93\u001B[39m \u001B[38;5;28;01mreturn\u001B[39;00m \u001B[43mfunction\u001B[49m\u001B[43m(\u001B[49m\u001B[43m*\u001B[49m\u001B[43margs\u001B[49m\u001B[43m,\u001B[49m\u001B[43m \u001B[49m\u001B[43m*\u001B[49m\u001B[43m*\u001B[49m\u001B[43mkwargs\u001B[49m\u001B[43m)\u001B[49m\n",
      "\u001B[36mFile \u001B[39m\u001B[32m~/scratch/qleverflow/.venv/lib/python3.13/site-packages/polars/lazyframe/frame.py:2224\u001B[39m, in \u001B[36mLazyFrame.collect\u001B[39m\u001B[34m(self, type_coercion, _type_check, predicate_pushdown, projection_pushdown, simplify_expression, slice_pushdown, comm_subplan_elim, comm_subexpr_elim, cluster_with_columns, collapse_joins, no_optimization, engine, background, _check_order, _eager, **_kwargs)\u001B[39m\n\u001B[32m   2222\u001B[39m \u001B[38;5;66;03m# Only for testing purposes\u001B[39;00m\n\u001B[32m   2223\u001B[39m callback = _kwargs.get(\u001B[33m\"\u001B[39m\u001B[33mpost_opt_callback\u001B[39m\u001B[33m\"\u001B[39m, callback)\n\u001B[32m-> \u001B[39m\u001B[32m2224\u001B[39m \u001B[38;5;28;01mreturn\u001B[39;00m wrap_df(\u001B[43mldf\u001B[49m\u001B[43m.\u001B[49m\u001B[43mcollect\u001B[49m\u001B[43m(\u001B[49m\u001B[43mengine\u001B[49m\u001B[43m,\u001B[49m\u001B[43m \u001B[49m\u001B[43mcallback\u001B[49m\u001B[43m)\u001B[49m)\n",
      "\u001B[31mColumnNotFoundError\u001B[39m: source\n\nResolved plan until failure:\n\n\t---> FAILED HERE RESOLVING 'sink' <---\nDF [\"User submitted timeout was higher than what is currently allowed by this instance (240s). Please use a valid-access token to override this server configuration.\"]; PROJECT */1 COLUMNS"
     ]
    }
   ],
   "execution_count": 9
  },
  {
   "metadata": {
    "ExecuteTime": {
     "end_time": "2025-05-14T14:37:35.236892Z",
     "start_time": "2025-05-14T14:37:35.198550Z"
    }
   },
   "cell_type": "code",
   "source": "edge_df = df.select(['source', 'target']).drop_nulls()",
   "id": "98476119ba541c9d",
   "outputs": [
    {
     "ename": "ColumnNotFoundError",
     "evalue": "source\n\nResolved plan until failure:\n\n\t---> FAILED HERE RESOLVING 'sink' <---\nDF [\"User submitted timeout was higher than what is currently allowed by this instance (240s). Please use a valid-access token to override this server configuration.\"]; PROJECT */1 COLUMNS",
     "output_type": "error",
     "traceback": [
      "\u001B[31m---------------------------------------------------------------------------\u001B[39m",
      "\u001B[31mColumnNotFoundError\u001B[39m                       Traceback (most recent call last)",
      "\u001B[36mCell\u001B[39m\u001B[36m \u001B[39m\u001B[32mIn[8]\u001B[39m\u001B[32m, line 1\u001B[39m\n\u001B[32m----> \u001B[39m\u001B[32m1\u001B[39m edge_df = \u001B[43mdf\u001B[49m\u001B[43m.\u001B[49m\u001B[43mselect\u001B[49m\u001B[43m(\u001B[49m\u001B[43m[\u001B[49m\u001B[33;43m'\u001B[39;49m\u001B[33;43msource\u001B[39;49m\u001B[33;43m'\u001B[39;49m\u001B[43m,\u001B[49m\u001B[43m \u001B[49m\u001B[33;43m'\u001B[39;49m\u001B[33;43mtarget\u001B[39;49m\u001B[33;43m'\u001B[39;49m\u001B[43m]\u001B[49m\u001B[43m)\u001B[49m.drop_nulls()\n",
      "\u001B[36mFile \u001B[39m\u001B[32m~/scratch/qleverflow/.venv/lib/python3.13/site-packages/polars/dataframe/frame.py:9657\u001B[39m, in \u001B[36mDataFrame.select\u001B[39m\u001B[34m(self, *exprs, **named_exprs)\u001B[39m\n\u001B[32m   9557\u001B[39m \u001B[38;5;28;01mdef\u001B[39;00m\u001B[38;5;250m \u001B[39m\u001B[34mselect\u001B[39m(\n\u001B[32m   9558\u001B[39m     \u001B[38;5;28mself\u001B[39m, *exprs: IntoExpr | Iterable[IntoExpr], **named_exprs: IntoExpr\n\u001B[32m   9559\u001B[39m ) -> DataFrame:\n\u001B[32m   9560\u001B[39m \u001B[38;5;250m    \u001B[39m\u001B[33;03m\"\"\"\u001B[39;00m\n\u001B[32m   9561\u001B[39m \u001B[33;03m    Select columns from this DataFrame.\u001B[39;00m\n\u001B[32m   9562\u001B[39m \n\u001B[32m   (...)\u001B[39m\u001B[32m   9655\u001B[39m \u001B[33;03m    └──────────────┘\u001B[39;00m\n\u001B[32m   9656\u001B[39m \u001B[33;03m    \"\"\"\u001B[39;00m\n\u001B[32m-> \u001B[39m\u001B[32m9657\u001B[39m     \u001B[38;5;28;01mreturn\u001B[39;00m \u001B[38;5;28;43mself\u001B[39;49m\u001B[43m.\u001B[49m\u001B[43mlazy\u001B[49m\u001B[43m(\u001B[49m\u001B[43m)\u001B[49m\u001B[43m.\u001B[49m\u001B[43mselect\u001B[49m\u001B[43m(\u001B[49m\u001B[43m*\u001B[49m\u001B[43mexprs\u001B[49m\u001B[43m,\u001B[49m\u001B[43m \u001B[49m\u001B[43m*\u001B[49m\u001B[43m*\u001B[49m\u001B[43mnamed_exprs\u001B[49m\u001B[43m)\u001B[49m\u001B[43m.\u001B[49m\u001B[43mcollect\u001B[49m\u001B[43m(\u001B[49m\u001B[43m_eager\u001B[49m\u001B[43m=\u001B[49m\u001B[38;5;28;43;01mTrue\u001B[39;49;00m\u001B[43m)\u001B[49m\n",
      "\u001B[36mFile \u001B[39m\u001B[32m~/scratch/qleverflow/.venv/lib/python3.13/site-packages/polars/_utils/deprecation.py:93\u001B[39m, in \u001B[36mdeprecate_streaming_parameter.<locals>.decorate.<locals>.wrapper\u001B[39m\u001B[34m(*args, **kwargs)\u001B[39m\n\u001B[32m     89\u001B[39m         kwargs[\u001B[33m\"\u001B[39m\u001B[33mengine\u001B[39m\u001B[33m\"\u001B[39m] = \u001B[33m\"\u001B[39m\u001B[33min-memory\u001B[39m\u001B[33m\"\u001B[39m\n\u001B[32m     91\u001B[39m     \u001B[38;5;28;01mdel\u001B[39;00m kwargs[\u001B[33m\"\u001B[39m\u001B[33mstreaming\u001B[39m\u001B[33m\"\u001B[39m]\n\u001B[32m---> \u001B[39m\u001B[32m93\u001B[39m \u001B[38;5;28;01mreturn\u001B[39;00m \u001B[43mfunction\u001B[49m\u001B[43m(\u001B[49m\u001B[43m*\u001B[49m\u001B[43margs\u001B[49m\u001B[43m,\u001B[49m\u001B[43m \u001B[49m\u001B[43m*\u001B[49m\u001B[43m*\u001B[49m\u001B[43mkwargs\u001B[49m\u001B[43m)\u001B[49m\n",
      "\u001B[36mFile \u001B[39m\u001B[32m~/scratch/qleverflow/.venv/lib/python3.13/site-packages/polars/lazyframe/frame.py:2224\u001B[39m, in \u001B[36mLazyFrame.collect\u001B[39m\u001B[34m(self, type_coercion, _type_check, predicate_pushdown, projection_pushdown, simplify_expression, slice_pushdown, comm_subplan_elim, comm_subexpr_elim, cluster_with_columns, collapse_joins, no_optimization, engine, background, _check_order, _eager, **_kwargs)\u001B[39m\n\u001B[32m   2222\u001B[39m \u001B[38;5;66;03m# Only for testing purposes\u001B[39;00m\n\u001B[32m   2223\u001B[39m callback = _kwargs.get(\u001B[33m\"\u001B[39m\u001B[33mpost_opt_callback\u001B[39m\u001B[33m\"\u001B[39m, callback)\n\u001B[32m-> \u001B[39m\u001B[32m2224\u001B[39m \u001B[38;5;28;01mreturn\u001B[39;00m wrap_df(\u001B[43mldf\u001B[49m\u001B[43m.\u001B[49m\u001B[43mcollect\u001B[49m\u001B[43m(\u001B[49m\u001B[43mengine\u001B[49m\u001B[43m,\u001B[49m\u001B[43m \u001B[49m\u001B[43mcallback\u001B[49m\u001B[43m)\u001B[49m)\n",
      "\u001B[31mColumnNotFoundError\u001B[39m: source\n\nResolved plan until failure:\n\n\t---> FAILED HERE RESOLVING 'sink' <---\nDF [\"User submitted timeout was higher than what is currently allowed by this instance (240s). Please use a valid-access token to override this server configuration.\"]; PROJECT */1 COLUMNS"
     ]
    }
   ],
   "execution_count": 8
  },
  {
   "metadata": {
    "ExecuteTime": {
     "end_time": "2025-01-31T20:24:36.826220Z",
     "start_time": "2025-01-31T20:24:36.787339Z"
    }
   },
   "cell_type": "code",
   "source": [
    "db = kuzu.Database()\n",
    "conn = kuzu.Connection(db)"
   ],
   "id": "b9106c8694bab1ca",
   "outputs": [],
   "execution_count": 6
  },
  {
   "metadata": {
    "ExecuteTime": {
     "end_time": "2025-01-31T20:24:44.384783Z",
     "start_time": "2025-01-31T20:24:44.371596Z"
    }
   },
   "cell_type": "code",
   "source": [
    "conn.execute(\"DROP TABLE IF EXISTS Relations\")\n",
    "conn.execute(\"DROP TABLE IF EXISTS Entity\")\n",
    "\n",
    "conn.execute(\"CREATE NODE TABLE Entity(nodes STRING, PRIMARY KEY (nodes))\")\n",
    "conn.execute(\"COPY Entity FROM combined_uniques\")\n",
    "conn.execute(\"CREATE REL TABLE Relations(FROM Entity TO Entity)\")\n",
    "conn.execute(\"COPY Relations FROM edge_df\")"
   ],
   "id": "226a1e37bf4f8522",
   "outputs": [
    {
     "data": {
      "text/plain": [
       "<kuzu.query_result.QueryResult at 0x76ac3da21a50>"
      ]
     },
     "execution_count": 7,
     "metadata": {},
     "output_type": "execute_result"
    }
   ],
   "execution_count": 7
  },
  {
   "metadata": {
    "ExecuteTime": {
     "end_time": "2025-01-31T20:34:59.766467Z",
     "start_time": "2025-01-31T20:34:59.763321Z"
    }
   },
   "cell_type": "code",
   "source": [
    "cq = \"\"\"MATCH (n1:Entity)-[r]->(n2:Entity)\n",
    "RETURN n1, n2, r\n",
    "LIMIT 5000\n",
    "\"\"\""
   ],
   "id": "2d7da3dce9f85ed6",
   "outputs": [],
   "execution_count": 20
  },
  {
   "metadata": {
    "ExecuteTime": {
     "end_time": "2025-01-31T20:35:00.178821Z",
     "start_time": "2025-01-31T20:35:00.162634Z"
    }
   },
   "cell_type": "code",
   "source": "r = conn.execute(cq)",
   "id": "20b93132ce801b42",
   "outputs": [],
   "execution_count": 21
  },
  {
   "metadata": {
    "ExecuteTime": {
     "end_time": "2025-01-31T20:35:00.541336Z",
     "start_time": "2025-01-31T20:35:00.491435Z"
    }
   },
   "cell_type": "code",
   "source": "G = r.get_as_networkx(directed=False)",
   "id": "f25804222d643466",
   "outputs": [],
   "execution_count": 22
  },
  {
   "metadata": {
    "ExecuteTime": {
     "end_time": "2025-01-31T20:35:01.159867Z",
     "start_time": "2025-01-31T20:35:01.037354Z"
    }
   },
   "cell_type": "code",
   "source": [
    "# sigma can work with a networkx graph to begin with\n",
    "Sigma(\n",
    "    G,\n",
    "    node_size=G.degree,\n",
    "    default_edge_type='curve',\n",
    "    node_border_color_from='node',\n",
    "    node_metrics=['louvain'],\n",
    "    node_color='louvain',\n",
    "    start_layout=5,\n",
    "    edge_size=lambda u, v: G.degree(u) + G.degree(v),\n",
    "    edge_size_range=(0.5, 5),\n",
    "    label_font='cursive',\n",
    "    node_label_size=G.degree,\n",
    "    label_density=0\n",
    ")"
   ],
   "id": "5c5c3b803a48b30a",
   "outputs": [
    {
     "data": {
      "text/plain": [
       "Sigma(nx.MultiGraph with 2,987 nodes and 5,000 edges)"
      ],
      "application/vnd.jupyter.widget-view+json": {
       "version_major": 2,
       "version_minor": 0,
       "model_id": "85483cb3227e4fe3a04fcd4a4a27dc83"
      }
     },
     "execution_count": 23,
     "metadata": {},
     "output_type": "execute_result"
    }
   ],
   "execution_count": 23
  },
  {
   "metadata": {},
   "cell_type": "code",
   "outputs": [],
   "execution_count": null,
   "source": "",
   "id": "186e5dc62741d1ce"
  }
 ],
 "metadata": {
  "kernelspec": {
   "display_name": "Python 3",
   "language": "python",
   "name": "python3"
  },
  "language_info": {
   "codemirror_mode": {
    "name": "ipython",
    "version": 2
   },
   "file_extension": ".py",
   "mimetype": "text/x-python",
   "name": "python",
   "nbconvert_exporter": "python",
   "pygments_lexer": "ipython2",
   "version": "2.7.6"
  }
 },
 "nbformat": 4,
 "nbformat_minor": 5
}
