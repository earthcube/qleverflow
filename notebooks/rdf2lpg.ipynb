{
 "cells": [
  {
   "cell_type": "code",
   "id": "initial_id",
   "metadata": {
    "collapsed": true,
    "ExecuteTime": {
     "end_time": "2025-06-18T13:17:23.688515Z",
     "start_time": "2025-06-18T13:17:23.685707Z"
    }
   },
   "source": [
    "from io import StringIO\n",
    "import polars as pl\n",
    "import requests\n",
    "import kuzu\n",
    "from ipysigma import Sigma\n",
    "import networkx as nx\n",
    "import igraph as ig"
   ],
   "outputs": [],
   "execution_count": 15
  },
  {
   "metadata": {
    "ExecuteTime": {
     "end_time": "2025-06-18T13:26:58.285420Z",
     "start_time": "2025-06-18T13:26:58.282610Z"
    }
   },
   "cell_type": "code",
   "source": [
    "def query_mode(source,   qf):\n",
    "    # set a timeout and token if needed\n",
    "    params = {\n",
    "        #\"timeout\": \"600s\",\n",
    "        # \"access-token\": \"doos_7643543846_6dMISzlPrD7i\"\n",
    "    }\n",
    "    headers = {\n",
    "        \"Accept\": \"text/csv\",\n",
    "        \"Content-type\": \"application/sparql-query\"\n",
    "    }\n",
    "\n",
    "    # Read the SPARQL query from file\n",
    "    with open(qf, \"r\") as file:\n",
    "        query = file.read()\n",
    "\n",
    "    # Send the request\n",
    "    response = requests.post(source, params=params, headers=headers, data=query)\n",
    "\n",
    "    # Load response into Polars DataFrame\n",
    "    df = pl.read_csv(StringIO(response.text))\n",
    "\n",
    "    return df"
   ],
   "id": "d90f2e9c9d7e9125",
   "outputs": [],
   "execution_count": 29
  },
  {
   "metadata": {
    "ExecuteTime": {
     "end_time": "2025-06-18T13:27:09.577788Z",
     "start_time": "2025-06-18T13:27:03.275347Z"
    }
   },
   "cell_type": "code",
   "source": [
    "source = \"http://ghost.lan:7007\"  ## your SPARQL endpoint here\n",
    "query = \"/home/fils/scratch/qleverflow/queries/keywordsPathSearch.rq\"\n",
    "df = query_mode(source, query)"
   ],
   "id": "8d76d08d05808e29",
   "outputs": [],
   "execution_count": 30
  },
  {
   "metadata": {
    "ExecuteTime": {
     "end_time": "2025-06-18T13:27:40.701809Z",
     "start_time": "2025-06-18T13:27:40.698919Z"
    }
   },
   "cell_type": "code",
   "source": "df.columns",
   "id": "446990e6b0779bce",
   "outputs": [
    {
     "data": {
      "text/plain": [
       "['start', 'pred', 'end', 'source', 'path', 'edge', 'target', 'start_name']"
      ]
     },
     "execution_count": 33,
     "metadata": {},
     "output_type": "execute_result"
    }
   ],
   "execution_count": 33
  },
  {
   "metadata": {
    "ExecuteTime": {
     "end_time": "2025-06-18T13:29:07.972330Z",
     "start_time": "2025-06-18T13:29:07.765360Z"
    }
   },
   "cell_type": "code",
   "source": [
    "combined_uniques = (\n",
    "        df\n",
    "        .select([\n",
    "            pl.concat_list([pl.col('source'), pl.col('target')])\n",
    "            .alias('nodes')\n",
    "        ])\n",
    "        .select([\n",
    "            pl.col('nodes').explode().unique().sort()\n",
    "        ])\n",
    "    ).drop_nulls()    #   .to_series().to_list()"
   ],
   "id": "e38cd742db714eb",
   "outputs": [],
   "execution_count": 34
  },
  {
   "metadata": {
    "ExecuteTime": {
     "end_time": "2025-06-18T13:29:20.369218Z",
     "start_time": "2025-06-18T13:29:20.364180Z"
    }
   },
   "cell_type": "code",
   "source": "edge_df = df.select(['source', 'target']).drop_nulls()",
   "id": "98476119ba541c9d",
   "outputs": [],
   "execution_count": 35
  },
  {
   "metadata": {
    "ExecuteTime": {
     "end_time": "2025-06-18T13:29:28.183504Z",
     "start_time": "2025-06-18T13:29:28.148851Z"
    }
   },
   "cell_type": "code",
   "source": [
    "db = kuzu.Database()\n",
    "conn = kuzu.Connection(db)"
   ],
   "id": "b9106c8694bab1ca",
   "outputs": [],
   "execution_count": 36
  },
  {
   "metadata": {
    "ExecuteTime": {
     "end_time": "2025-06-18T13:29:29.476378Z",
     "start_time": "2025-06-18T13:29:28.950578Z"
    }
   },
   "cell_type": "code",
   "source": [
    "conn.execute(\"DROP TABLE IF EXISTS Relations\")\n",
    "conn.execute(\"DROP TABLE IF EXISTS Entity\")\n",
    "\n",
    "conn.execute(\"CREATE NODE TABLE Entity(nodes STRING, PRIMARY KEY (nodes))\")\n",
    "conn.execute(\"COPY Entity FROM combined_uniques\")\n",
    "conn.execute(\"CREATE REL TABLE Relations(FROM Entity TO Entity)\")\n",
    "conn.execute(\"COPY Relations FROM edge_df\")"
   ],
   "id": "226a1e37bf4f8522",
   "outputs": [
    {
     "data": {
      "text/plain": [
       "<kuzu.query_result.QueryResult at 0x71524e0a0950>"
      ]
     },
     "execution_count": 37,
     "metadata": {},
     "output_type": "execute_result"
    }
   ],
   "execution_count": 37
  },
  {
   "metadata": {
    "ExecuteTime": {
     "end_time": "2025-06-18T13:29:30.156601Z",
     "start_time": "2025-06-18T13:29:30.154303Z"
    }
   },
   "cell_type": "code",
   "source": [
    "cq = \"\"\"MATCH (n1:Entity)-[r]->(n2:Entity)\n",
    "RETURN n1, n2, r\n",
    "LIMIT 5000\n",
    "\"\"\""
   ],
   "id": "2d7da3dce9f85ed6",
   "outputs": [],
   "execution_count": 38
  },
  {
   "metadata": {
    "ExecuteTime": {
     "end_time": "2025-06-18T13:29:31.437056Z",
     "start_time": "2025-06-18T13:29:31.391727Z"
    }
   },
   "cell_type": "code",
   "source": "r = conn.execute(cq)",
   "id": "20b93132ce801b42",
   "outputs": [],
   "execution_count": 39
  },
  {
   "metadata": {
    "ExecuteTime": {
     "end_time": "2025-06-18T13:29:33.852718Z",
     "start_time": "2025-06-18T13:29:33.806699Z"
    }
   },
   "cell_type": "code",
   "source": "G = r.get_as_networkx(directed=False)",
   "id": "f25804222d643466",
   "outputs": [],
   "execution_count": 40
  },
  {
   "metadata": {
    "ExecuteTime": {
     "end_time": "2025-06-18T13:29:34.772181Z",
     "start_time": "2025-06-18T13:29:34.682539Z"
    }
   },
   "cell_type": "code",
   "source": [
    "# sigma can work with a networkx graph to begin with\n",
    "Sigma(\n",
    "    G,\n",
    "    node_size=G.degree,\n",
    "    default_edge_type='curve',\n",
    "    node_border_color_from='node',\n",
    "    node_metrics=['louvain'],\n",
    "    node_color='louvain',\n",
    "    start_layout=5,\n",
    "    edge_size=lambda u, v: G.degree(u) + G.degree(v),\n",
    "    edge_size_range=(0.5, 5),\n",
    "    label_font='cursive',\n",
    "    node_label_size=G.degree,\n",
    "    label_density=0\n",
    ")"
   ],
   "id": "5c5c3b803a48b30a",
   "outputs": [
    {
     "data": {
      "text/plain": [
       "Sigma(nx.MultiGraph with 3,432 nodes and 5,000 edges)"
      ],
      "application/vnd.jupyter.widget-view+json": {
       "version_major": 2,
       "version_minor": 0,
       "model_id": "35e8b406815e486a827a8aecbefaf1ce"
      }
     },
     "execution_count": 41,
     "metadata": {},
     "output_type": "execute_result"
    }
   ],
   "execution_count": 41
  },
  {
   "metadata": {},
   "cell_type": "code",
   "outputs": [],
   "execution_count": null,
   "source": "",
   "id": "186e5dc62741d1ce"
  }
 ],
 "metadata": {
  "kernelspec": {
   "display_name": "Python 3",
   "language": "python",
   "name": "python3"
  },
  "language_info": {
   "codemirror_mode": {
    "name": "ipython",
    "version": 2
   },
   "file_extension": ".py",
   "mimetype": "text/x-python",
   "name": "python",
   "nbconvert_exporter": "python",
   "pygments_lexer": "ipython2",
   "version": "2.7.6"
  }
 },
 "nbformat": 4,
 "nbformat_minor": 5
}
